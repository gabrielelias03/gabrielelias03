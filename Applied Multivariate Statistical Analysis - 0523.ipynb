{
  "nbformat": 4,
  "nbformat_minor": 0,
  "metadata": {
    "colab": {
      "provenance": [],
      "authorship_tag": "ABX9TyNcH9F8R+wpFLgfMyWR+4G1",
      "include_colab_link": true
    },
    "kernelspec": {
      "name": "python3",
      "display_name": "Python 3"
    },
    "language_info": {
      "name": "python"
    }
  },
  "cells": [
    {
      "cell_type": "markdown",
      "metadata": {
        "id": "view-in-github",
        "colab_type": "text"
      },
      "source": [
        "<a href=\"https://colab.research.google.com/github/gabrielelias03/gabrielelias03/blob/main/Applied%20Multivariate%20Statistical%20Analysis%20-%200523.ipynb\" target=\"_parent\"><img src=\"https://colab.research.google.com/assets/colab-badge.svg\" alt=\"Open In Colab\"/></a>"
      ]
    },
    {
      "cell_type": "code",
      "execution_count": 2,
      "metadata": {
        "colab": {
          "base_uri": "https://localhost:8080/",
          "height": 1000
        },
        "id": "UKYDn4DzrnQY",
        "outputId": "4b649f0d-f72d-4239-8bf7-f2b83d21794e"
      },
      "outputs": [
        {
          "output_type": "stream",
          "name": "stdout",
          "text": [
            "   is_genuine  diagonal  height_left  height_right  margin_low  margin_up  \\\n",
            "0        True    171.81       104.86        104.95        4.52       2.89   \n",
            "1        True    171.46       103.36        103.66        3.77       2.99   \n",
            "2        True    172.69       104.48        103.50        4.40       2.94   \n",
            "3        True    171.36       103.91        103.94        3.62       3.01   \n",
            "4        True    171.73       104.28        103.46        4.04       3.48   \n",
            "\n",
            "   length  \n",
            "0  112.83  \n",
            "1  113.09  \n",
            "2  113.16  \n",
            "3  113.51  \n",
            "4  112.54  \n",
            "<class 'pandas.core.frame.DataFrame'>\n",
            "RangeIndex: 1500 entries, 0 to 1499\n",
            "Data columns (total 7 columns):\n",
            " #   Column        Non-Null Count  Dtype  \n",
            "---  ------        --------------  -----  \n",
            " 0   is_genuine    1500 non-null   bool   \n",
            " 1   diagonal      1500 non-null   float64\n",
            " 2   height_left   1500 non-null   float64\n",
            " 3   height_right  1500 non-null   float64\n",
            " 4   margin_low    1463 non-null   float64\n",
            " 5   margin_up     1500 non-null   float64\n",
            " 6   length        1500 non-null   float64\n",
            "dtypes: bool(1), float64(6)\n",
            "memory usage: 71.9 KB\n",
            "None\n",
            "          diagonal  height_left  height_right   margin_low    margin_up  \\\n",
            "count  1500.000000  1500.000000   1500.000000  1463.000000  1500.000000   \n",
            "mean    171.958440   104.029533    103.920307     4.485967     3.151473   \n",
            "std       0.305195     0.299462      0.325627     0.663813     0.231813   \n",
            "min     171.040000   103.140000    102.820000     2.980000     2.270000   \n",
            "25%     171.750000   103.820000    103.710000     4.015000     2.990000   \n",
            "50%     171.960000   104.040000    103.920000     4.310000     3.140000   \n",
            "75%     172.170000   104.230000    104.150000     4.870000     3.310000   \n",
            "max     173.010000   104.880000    104.950000     6.900000     3.910000   \n",
            "\n",
            "           length  \n",
            "count  1500.00000  \n",
            "mean    112.67850  \n",
            "std       0.87273  \n",
            "min     109.49000  \n",
            "25%     112.03000  \n",
            "50%     112.96000  \n",
            "75%     113.34000  \n",
            "max     114.44000  \n",
            "is_genuine       0\n",
            "diagonal         0\n",
            "height_left      0\n",
            "height_right     0\n",
            "margin_low      37\n",
            "margin_up        0\n",
            "length           0\n",
            "dtype: int64\n"
          ]
        },
        {
          "output_type": "display_data",
          "data": {
            "text/plain": [
              "<Figure size 640x480 with 1 Axes>"
            ],
            "image/png": "[encoded data removed]"
          },
          "metadata": {}
        },
        {
          "output_type": "stream",
          "name": "stdout",
          "text": [
            "Linear Regression MSE: 0.03725300289504557\n",
            "Linear Regression R-squared: 0.8395803703084163\n",
            "Logistic Regression Accuracy: 0.9866666666666667\n",
            "Classification Report:\n",
            "              precision    recall  f1-score   support\n",
            "\n",
            "       False       1.00      0.96      0.98       110\n",
            "        True       0.98      1.00      0.99       190\n",
            "\n",
            "    accuracy                           0.99       300\n",
            "   macro avg       0.99      0.98      0.99       300\n",
            "weighted avg       0.99      0.99      0.99       300\n",
            "\n",
            "Confusion Matrix:\n",
            "[[106   4]\n",
            " [  0 190]]\n"
          ]
        }
      ],
      "source": [
        "# Importing necessary libraries\n",
        "import pandas as pd\n",
        "import numpy as np\n",
        "import matplotlib.pyplot as plt\n",
        "import seaborn as sns\n",
        "from sklearn.model_selection import train_test_split\n",
        "from sklearn.linear_model import LinearRegression, LogisticRegression\n",
        "from sklearn.metrics import mean_squared_error, r2_score, accuracy_score, classification_report, confusion_matrix\n",
        "from sklearn.preprocessing import MinMaxScaler\n",
        "\n",
        "# Load the dataset\n",
        "data = pd.read_csv(\"fake_bills.csv\")\n",
        "\n",
        "# Displaying the first few rows of the dataset\n",
        "print(data.head())\n",
        "\n",
        "# Explore the structure of the dataset\n",
        "print(data.info())\n",
        "print(data.describe())\n",
        "\n",
        "# Check for missing values\n",
        "print(data.isnull().sum())\n",
        "\n",
        "# Visualize the data\n",
        "# Example: Histogram of numerical features\n",
        "sns.histplot(data['diagonal'], bins=20)\n",
        "plt.title(\"Histogram of Diagonal\")\n",
        "plt.xlabel(\"Value\")\n",
        "plt.ylabel(\"Frequency\")\n",
        "plt.show()\n",
        "\n",
        "# Handle missing values (if applicable)\n",
        "# Example: Impute missing values with median\n",
        "data.fillna(data.median(), inplace=True)\n",
        "\n",
        "# Splitting the dataset into features (X) and target variable (y)\n",
        "X = data.drop('is_genuine', axis=1)\n",
        "y = data['is_genuine']\n",
        "\n",
        "# Encode categorical variables (if applicable)\n",
        "# This step is not necessary if your dataset doesn't contain categorical variables\n",
        "\n",
        "# Scale numerical features\n",
        "scaler = MinMaxScaler()\n",
        "X_scaled = scaler.fit_transform(X)\n",
        "X_scaled = pd.DataFrame(X_scaled, columns=X.columns)\n",
        "\n",
        "# Split the dataset into training and testing sets\n",
        "X_train, X_test, y_train, y_test = train_test_split(X_scaled, y, test_size=0.2, random_state=42)\n",
        "\n",
        "# Linear Regression\n",
        "lr_model = LinearRegression()\n",
        "lr_model.fit(X_train, y_train)\n",
        "y_pred_lr = lr_model.predict(X_test)\n",
        "mse_lr = mean_squared_error(y_test, y_pred_lr)\n",
        "r2_lr = r2_score(y_test, y_pred_lr)\n",
        "print(\"Linear Regression MSE:\", mse_lr)\n",
        "print(\"Linear Regression R-squared:\", r2_lr)\n",
        "\n",
        "# Logistic Regression\n",
        "logreg_model = LogisticRegression()\n",
        "logreg_model.fit(X_train, y_train)\n",
        "y_pred_logreg = logreg_model.predict(X_test)\n",
        "accuracy_logreg = accuracy_score(y_test, y_pred_logreg)\n",
        "print(\"Logistic Regression Accuracy:\", accuracy_logreg)\n",
        "print(\"Classification Report:\")\n",
        "print(classification_report(y_test, y_pred_logreg))\n",
        "print(\"Confusion Matrix:\")\n",
        "print(confusion_matrix(y_test, y_pred_logreg))\n"
      ]
    }
  ]
}